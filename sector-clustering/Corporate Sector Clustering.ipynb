{
 "cells": [
  {
   "cell_type": "markdown",
   "id": "4c93c8d4",
   "metadata": {},
   "source": [
    "# Corporate Sector Clustering"
   ]
  },
  {
   "cell_type": "markdown",
   "id": "5edad7df",
   "metadata": {},
   "source": [
    "## Introduction\n",
    "\n",
    "INTRODUCTION OF THE PROJECT"
   ]
  },
  {
   "cell_type": "code",
   "execution_count": 36,
   "id": "f78e473f",
   "metadata": {},
   "outputs": [],
   "source": [
    "# import\n",
    "import pandas as pd\n",
    "import numpy as np\n",
    "import seaborn as sns\n",
    "\n",
    "from scipy.spatial import distance \n",
    "from sklearn.decomposition import PCA\n",
    "from sklearn.cluster import KMeans \n",
    "\n",
    "# convert date \n",
    "from datetime import datetime\n",
    "\n",
    "import matplotlib.pyplot as plt"
   ]
  },
  {
   "cell_type": "code",
   "execution_count": 28,
   "id": "85257a5e",
   "metadata": {},
   "outputs": [
    {
     "name": "stdout",
     "output_type": "stream",
     "text": [
      "Index(['Rating', 'Name', 'Symbol', 'Rating Agency Name', 'Date', 'Sector',\n",
      "       'currentRatio', 'quickRatio', 'cashRatio', 'daysOfSalesOutstanding',\n",
      "       'netProfitMargin', 'pretaxProfitMargin', 'grossProfitMargin',\n",
      "       'operatingProfitMargin', 'returnOnAssets', 'returnOnCapitalEmployed',\n",
      "       'returnOnEquity', 'assetTurnover', 'fixedAssetTurnover',\n",
      "       'debtEquityRatio', 'debtRatio', 'effectiveTaxRate',\n",
      "       'freeCashFlowOperatingCashFlowRatio', 'freeCashFlowPerShare',\n",
      "       'cashPerShare', 'companyEquityMultiplier', 'ebitPerRevenue',\n",
      "       'enterpriseValueMultiple', 'operatingCashFlowPerShare',\n",
      "       'operatingCashFlowSalesRatio', 'payablesTurnover'],\n",
      "      dtype='object')\n"
     ]
    },
    {
     "data": {
      "text/html": [
       "<div>\n",
       "<style scoped>\n",
       "    .dataframe tbody tr th:only-of-type {\n",
       "        vertical-align: middle;\n",
       "    }\n",
       "\n",
       "    .dataframe tbody tr th {\n",
       "        vertical-align: top;\n",
       "    }\n",
       "\n",
       "    .dataframe thead th {\n",
       "        text-align: right;\n",
       "    }\n",
       "</style>\n",
       "<table border=\"1\" class=\"dataframe\">\n",
       "  <thead>\n",
       "    <tr style=\"text-align: right;\">\n",
       "      <th></th>\n",
       "      <th>Rating</th>\n",
       "      <th>Name</th>\n",
       "      <th>Symbol</th>\n",
       "      <th>Rating Agency Name</th>\n",
       "      <th>Date</th>\n",
       "      <th>Sector</th>\n",
       "      <th>currentRatio</th>\n",
       "      <th>quickRatio</th>\n",
       "      <th>cashRatio</th>\n",
       "      <th>daysOfSalesOutstanding</th>\n",
       "      <th>...</th>\n",
       "      <th>effectiveTaxRate</th>\n",
       "      <th>freeCashFlowOperatingCashFlowRatio</th>\n",
       "      <th>freeCashFlowPerShare</th>\n",
       "      <th>cashPerShare</th>\n",
       "      <th>companyEquityMultiplier</th>\n",
       "      <th>ebitPerRevenue</th>\n",
       "      <th>enterpriseValueMultiple</th>\n",
       "      <th>operatingCashFlowPerShare</th>\n",
       "      <th>operatingCashFlowSalesRatio</th>\n",
       "      <th>payablesTurnover</th>\n",
       "    </tr>\n",
       "  </thead>\n",
       "  <tbody>\n",
       "    <tr>\n",
       "      <th>0</th>\n",
       "      <td>A</td>\n",
       "      <td>Whirlpool Corporation</td>\n",
       "      <td>WHR</td>\n",
       "      <td>Egan-Jones Ratings Company</td>\n",
       "      <td>11/27/2015</td>\n",
       "      <td>Consumer Durables</td>\n",
       "      <td>0.945894</td>\n",
       "      <td>0.426395</td>\n",
       "      <td>0.099690</td>\n",
       "      <td>44.203245</td>\n",
       "      <td>...</td>\n",
       "      <td>0.202716</td>\n",
       "      <td>0.437551</td>\n",
       "      <td>6.810673</td>\n",
       "      <td>9.809403</td>\n",
       "      <td>4.008012</td>\n",
       "      <td>0.049351</td>\n",
       "      <td>7.057088</td>\n",
       "      <td>15.565438</td>\n",
       "      <td>0.058638</td>\n",
       "      <td>3.906655</td>\n",
       "    </tr>\n",
       "    <tr>\n",
       "      <th>1</th>\n",
       "      <td>BBB</td>\n",
       "      <td>Whirlpool Corporation</td>\n",
       "      <td>WHR</td>\n",
       "      <td>Egan-Jones Ratings Company</td>\n",
       "      <td>2/13/2014</td>\n",
       "      <td>Consumer Durables</td>\n",
       "      <td>1.033559</td>\n",
       "      <td>0.498234</td>\n",
       "      <td>0.203120</td>\n",
       "      <td>38.991156</td>\n",
       "      <td>...</td>\n",
       "      <td>0.074155</td>\n",
       "      <td>0.541997</td>\n",
       "      <td>8.625473</td>\n",
       "      <td>17.402270</td>\n",
       "      <td>3.156783</td>\n",
       "      <td>0.048857</td>\n",
       "      <td>6.460618</td>\n",
       "      <td>15.914250</td>\n",
       "      <td>0.067239</td>\n",
       "      <td>4.002846</td>\n",
       "    </tr>\n",
       "    <tr>\n",
       "      <th>2</th>\n",
       "      <td>BBB</td>\n",
       "      <td>Whirlpool Corporation</td>\n",
       "      <td>WHR</td>\n",
       "      <td>Fitch Ratings</td>\n",
       "      <td>3/6/2015</td>\n",
       "      <td>Consumer Durables</td>\n",
       "      <td>0.963703</td>\n",
       "      <td>0.451505</td>\n",
       "      <td>0.122099</td>\n",
       "      <td>50.841385</td>\n",
       "      <td>...</td>\n",
       "      <td>0.214529</td>\n",
       "      <td>0.513185</td>\n",
       "      <td>9.693487</td>\n",
       "      <td>13.103448</td>\n",
       "      <td>4.094575</td>\n",
       "      <td>0.044334</td>\n",
       "      <td>10.491970</td>\n",
       "      <td>18.888889</td>\n",
       "      <td>0.074426</td>\n",
       "      <td>3.483510</td>\n",
       "    </tr>\n",
       "    <tr>\n",
       "      <th>3</th>\n",
       "      <td>BBB</td>\n",
       "      <td>Whirlpool Corporation</td>\n",
       "      <td>WHR</td>\n",
       "      <td>Fitch Ratings</td>\n",
       "      <td>6/15/2012</td>\n",
       "      <td>Consumer Durables</td>\n",
       "      <td>1.019851</td>\n",
       "      <td>0.510402</td>\n",
       "      <td>0.176116</td>\n",
       "      <td>41.161738</td>\n",
       "      <td>...</td>\n",
       "      <td>1.816667</td>\n",
       "      <td>-0.147170</td>\n",
       "      <td>-1.015625</td>\n",
       "      <td>14.440104</td>\n",
       "      <td>3.630950</td>\n",
       "      <td>-0.012858</td>\n",
       "      <td>4.080741</td>\n",
       "      <td>6.901042</td>\n",
       "      <td>0.028394</td>\n",
       "      <td>4.581150</td>\n",
       "    </tr>\n",
       "    <tr>\n",
       "      <th>4</th>\n",
       "      <td>BBB</td>\n",
       "      <td>Whirlpool Corporation</td>\n",
       "      <td>WHR</td>\n",
       "      <td>Standard &amp; Poor's Ratings Services</td>\n",
       "      <td>10/24/2016</td>\n",
       "      <td>Consumer Durables</td>\n",
       "      <td>0.957844</td>\n",
       "      <td>0.495432</td>\n",
       "      <td>0.141608</td>\n",
       "      <td>47.761126</td>\n",
       "      <td>...</td>\n",
       "      <td>0.166966</td>\n",
       "      <td>0.451372</td>\n",
       "      <td>7.135348</td>\n",
       "      <td>14.257556</td>\n",
       "      <td>4.012780</td>\n",
       "      <td>0.053770</td>\n",
       "      <td>8.293505</td>\n",
       "      <td>15.808147</td>\n",
       "      <td>0.058065</td>\n",
       "      <td>3.857790</td>\n",
       "    </tr>\n",
       "  </tbody>\n",
       "</table>\n",
       "<p>5 rows × 31 columns</p>\n",
       "</div>"
      ],
      "text/plain": [
       "  Rating                   Name Symbol                  Rating Agency Name  \\\n",
       "0      A  Whirlpool Corporation    WHR          Egan-Jones Ratings Company   \n",
       "1    BBB  Whirlpool Corporation    WHR          Egan-Jones Ratings Company   \n",
       "2    BBB  Whirlpool Corporation    WHR                       Fitch Ratings   \n",
       "3    BBB  Whirlpool Corporation    WHR                       Fitch Ratings   \n",
       "4    BBB  Whirlpool Corporation    WHR  Standard & Poor's Ratings Services   \n",
       "\n",
       "         Date             Sector  currentRatio  quickRatio  cashRatio  \\\n",
       "0  11/27/2015  Consumer Durables      0.945894    0.426395   0.099690   \n",
       "1   2/13/2014  Consumer Durables      1.033559    0.498234   0.203120   \n",
       "2    3/6/2015  Consumer Durables      0.963703    0.451505   0.122099   \n",
       "3   6/15/2012  Consumer Durables      1.019851    0.510402   0.176116   \n",
       "4  10/24/2016  Consumer Durables      0.957844    0.495432   0.141608   \n",
       "\n",
       "   daysOfSalesOutstanding  ...  effectiveTaxRate  \\\n",
       "0               44.203245  ...          0.202716   \n",
       "1               38.991156  ...          0.074155   \n",
       "2               50.841385  ...          0.214529   \n",
       "3               41.161738  ...          1.816667   \n",
       "4               47.761126  ...          0.166966   \n",
       "\n",
       "   freeCashFlowOperatingCashFlowRatio  freeCashFlowPerShare  cashPerShare  \\\n",
       "0                            0.437551              6.810673      9.809403   \n",
       "1                            0.541997              8.625473     17.402270   \n",
       "2                            0.513185              9.693487     13.103448   \n",
       "3                           -0.147170             -1.015625     14.440104   \n",
       "4                            0.451372              7.135348     14.257556   \n",
       "\n",
       "   companyEquityMultiplier  ebitPerRevenue  enterpriseValueMultiple  \\\n",
       "0                 4.008012        0.049351                 7.057088   \n",
       "1                 3.156783        0.048857                 6.460618   \n",
       "2                 4.094575        0.044334                10.491970   \n",
       "3                 3.630950       -0.012858                 4.080741   \n",
       "4                 4.012780        0.053770                 8.293505   \n",
       "\n",
       "   operatingCashFlowPerShare  operatingCashFlowSalesRatio  payablesTurnover  \n",
       "0                  15.565438                     0.058638          3.906655  \n",
       "1                  15.914250                     0.067239          4.002846  \n",
       "2                  18.888889                     0.074426          3.483510  \n",
       "3                   6.901042                     0.028394          4.581150  \n",
       "4                  15.808147                     0.058065          3.857790  \n",
       "\n",
       "[5 rows x 31 columns]"
      ]
     },
     "execution_count": 28,
     "metadata": {},
     "output_type": "execute_result"
    }
   ],
   "source": [
    "# import data\n",
    "corporate_pd = pd.read_csv(\"../corporate_rating.csv\")\n",
    "corporate_pd.head()"
   ]
  },
  {
   "cell_type": "markdown",
   "id": "cafbe9ce",
   "metadata": {},
   "source": [
    "INTRODUCE THE COLUMN NAMES\n",
    "\n",
    "To perform PCA dimension reduction in order to visualize the data in 2D, we keep the numerical variables within the dataset."
   ]
  },
  {
   "cell_type": "code",
   "execution_count": 81,
   "id": "97842b4d",
   "metadata": {},
   "outputs": [
    {
     "data": {
      "text/plain": [
       "(2029, 25)"
      ]
     },
     "execution_count": 81,
     "metadata": {},
     "output_type": "execute_result"
    }
   ],
   "source": [
    "corporate_np = corporate_pd.drop(['Rating','Name','Symbol','Rating Agency Name','Date','Sector'],axis = 1).to_numpy()\n",
    "sectors = corporate_pd[['Sector']].to_numpy()\n",
    "# # convert the date into date format\n",
    "# for i in range(corporate_np.shape[0]):\n",
    "#     corporate_np[i,2] = datetime.strptime(corporate_np[i,2], '%m/%d/%Y').date()\n",
    "corporate_np.shape"
   ]
  },
  {
   "cell_type": "code",
   "execution_count": 82,
   "id": "7dd89618",
   "metadata": {},
   "outputs": [],
   "source": [
    "# zero-center the data adapted from lab 5 code\n",
    "def standardize(data):\n",
    "    data_std = data.copy()\n",
    "    \n",
    "    mean_vec = np.mean(data, axis=0)\n",
    "    sd_vec = np.std(data, axis=0)\n",
    "    \n",
    "    for i in range(data.shape[1]):\n",
    "        data_std[:,i] = (data[:,i] - mean_vec[i]*np.ones(data.shape[0]))/sd_vec[i]\n",
    "\n",
    "    return data_std\n"
   ]
  },
  {
   "cell_type": "code",
   "execution_count": 110,
   "id": "9f837f79",
   "metadata": {},
   "outputs": [
    {
     "data": {
      "text/plain": [
       "(2029, 1)"
      ]
     },
     "execution_count": 110,
     "metadata": {},
     "output_type": "execute_result"
    },
    {
     "data": {
      "image/png": "[encoded data removed]",
      "text/plain": [
       "<Figure size 432x288 with 1 Axes>"
      ]
     },
     "metadata": {
      "needs_background": "light"
     },
     "output_type": "display_data"
    }
   ],
   "source": [
    "# standardize the data\n",
    "corporate_std = standardize(corporate_np)\n",
    "\n",
    "# visualize the data in 2D\n",
    "pca = PCA(n_components=2)\n",
    "corporate2D = pca.fit_transform(corporate_std)\n",
    "\n",
    "sectorlist = list(sector.Sector.unique())\n",
    "sector_num = sectors.copy()\n",
    "for i in range(len(sectors)):\n",
    "    sector_num[i] = sectorlist.index(sectors[i])\n",
    "\n",
    "plt.scatter(corporate2D[:,0], corporate2D[:,1], c=sector_num)"
   ]
  },
  {
   "cell_type": "markdown",
   "id": "dc8320f5",
   "metadata": {},
   "source": [
    "The visualization of the original data is not so ideal given that there are extreme outliers within the data. Although most of the data are within 10 standard deviations from the mean, there are still some outliers that make it hard to see the number of clusters. Therefore we want to create an updated visualization without the outliers and more focused on the center cluster. Here we choose to keep data points that have -0.2 < x < 0.2  and y < 1."
   ]
  },
  {
   "cell_type": "code",
   "execution_count": 142,
   "id": "b7f91117",
   "metadata": {},
   "outputs": [],
   "source": [
    "# keep data points with x < 0.5\n",
    "include = corporate2D[:,0]<0.5\n",
    "corporate2Dnew = corporate2D[include]\n",
    "sector_num1 = sector_num[include]\n",
    "\n",
    "# keep data points with x > -0.5\n",
    "include1 = corporate2Dnew[:,0]>-0.5\n",
    "corporate2Dnew1 = corporate2Dnew[include1]\n",
    "sector_num2 = sector_num1[include1]\n",
    "\n",
    "# keep data points with y < 1\n",
    "include2 = corporate2Dnew1[:,1]<1\n",
    "corporate2Dnew2 = corporate2Dnew1[include2]\n",
    "sector_num3 = sector_num2[include2]"
   ]
  },
  {
   "cell_type": "code",
   "execution_count": 143,
   "id": "b368f7c1",
   "metadata": {},
   "outputs": [
    {
     "data": {
      "text/plain": [
       "<matplotlib.collections.PathCollection at 0x1643afafd60>"
      ]
     },
     "execution_count": 143,
     "metadata": {},
     "output_type": "execute_result"
    },
    {
     "data": {
      "image/png": "[encoded data removed]",
      "text/plain": [
       "<Figure size 432x288 with 1 Axes>"
      ]
     },
     "metadata": {
      "needs_background": "light"
     },
     "output_type": "display_data"
    }
   ],
   "source": [
    "plt.scatter(corporate2Dnew2[:,0], corporate2Dnew2[:,1], c=sector_num3)"
   ]
  },
  {
   "cell_type": "markdown",
   "id": "3d621db0",
   "metadata": {},
   "source": [
    "After zooming in towards the center, it seems that there are about 1-2 clusters within the data. However, the usual convention is to split the economy into [4 sectors](https://www.investopedia.com/ask/answers/05/industrysector.asp). \n",
    "\n",
    "- Primary Sector: This sector deals with the extraction and harvesting of natural resources such as agriculture and mining.\n",
    "- Secondary Sector: This sector comprises construction, manufacturing, and processing. Basically, this sector comprises industries that relate to the production of finished goods from raw materials.\n",
    "- Tertiary Sector: Retailers, entertainment, and financial companies make up this sector. These companies provide services to consumers.\n",
    "- Quaternary Sector: The final sector deals with knowledge or intellectual pursuits including research and development (R&D), business, consulting services, and education.\n",
    "\n",
    "We will implement k-means from scratch and explore the number of clusters."
   ]
  },
  {
   "cell_type": "markdown",
   "id": "c1cf73a0",
   "metadata": {},
   "source": [
    "## Self-implementation of k-means"
   ]
  },
  {
   "cell_type": "code",
   "execution_count": null,
   "id": "da587aca",
   "metadata": {},
   "outputs": [],
   "source": []
  },
  {
   "cell_type": "markdown",
   "id": "e9807d02",
   "metadata": {},
   "source": [
    "## Implementing k-means with sklearn"
   ]
  },
  {
   "cell_type": "code",
   "execution_count": null,
   "id": "4f203c65",
   "metadata": {},
   "outputs": [],
   "source": []
  },
  {
   "cell_type": "markdown",
   "id": "5abcacf9",
   "metadata": {},
   "source": [
    "## Self-implementation v.s. sklearn"
   ]
  },
  {
   "cell_type": "code",
   "execution_count": null,
   "id": "4fcdaad0",
   "metadata": {},
   "outputs": [],
   "source": []
  },
  {
   "cell_type": "markdown",
   "id": "d02ad89c",
   "metadata": {},
   "source": [
    "## The optimal number of clusters using elbowology"
   ]
  },
  {
   "cell_type": "code",
   "execution_count": null,
   "id": "a8ff993e",
   "metadata": {},
   "outputs": [],
   "source": []
  },
  {
   "cell_type": "markdown",
   "id": "e6ba0cf6",
   "metadata": {},
   "source": [
    "## Cluters and discussions"
   ]
  },
  {
   "cell_type": "code",
   "execution_count": null,
   "id": "294ed2a1",
   "metadata": {},
   "outputs": [],
   "source": []
  },
  {
   "cell_type": "markdown",
   "id": "492e5704",
   "metadata": {},
   "source": [
    "## Spectural Clustering"
   ]
  },
  {
   "cell_type": "code",
   "execution_count": null,
   "id": "e815f460",
   "metadata": {},
   "outputs": [],
   "source": []
  }
 ],
 "metadata": {
  "kernelspec": {
   "display_name": "Python 3 (ipykernel)",
   "language": "python",
   "name": "python3"
  },
  "language_info": {
   "codemirror_mode": {
    "name": "ipython",
    "version": 3
   },
   "file_extension": ".py",
   "mimetype": "text/x-python",
   "name": "python",
   "nbconvert_exporter": "python",
   "pygments_lexer": "ipython3",
   "version": "3.9.7"
  }
 },
 "nbformat": 4,
 "nbformat_minor": 5
}

{
 "cells": [
  {
   "cell_type": "markdown",
   "id": "a269a893",
   "metadata": {},
   "source": [
    "# Credit Rating Prediction\n",
    "### Deep Learning Classifiers with Neural Networks and Multi-layer Perceptrons (MLP)"
   ]
  },
  {
   "cell_type": "markdown",
   "id": "3bd9ad7a",
   "metadata": {},
   "source": [
    "## Introduction"
   ]
  },
  {
   "cell_type": "code",
   "execution_count": 86,
   "id": "ac0e7d8c",
   "metadata": {},
   "outputs": [],
   "source": [
    "# import \n",
    "import pandas as pd\n",
    "import numpy as np\n",
    "import tensorflow as tf\n",
    "from sklearn.neural_network import MLPClassifier"
   ]
  },
  {
   "cell_type": "code",
   "execution_count": 58,
   "id": "b79f6ae7",
   "metadata": {},
   "outputs": [
    {
     "data": {
      "text/html": [
       "<div>\n",
       "<style scoped>\n",
       "    .dataframe tbody tr th:only-of-type {\n",
       "        vertical-align: middle;\n",
       "    }\n",
       "\n",
       "    .dataframe tbody tr th {\n",
       "        vertical-align: top;\n",
       "    }\n",
       "\n",
       "    .dataframe thead th {\n",
       "        text-align: right;\n",
       "    }\n",
       "</style>\n",
       "<table border=\"1\" class=\"dataframe\">\n",
       "  <thead>\n",
       "    <tr style=\"text-align: right;\">\n",
       "      <th></th>\n",
       "      <th>Rating</th>\n",
       "      <th>currentRatio</th>\n",
       "      <th>quickRatio</th>\n",
       "      <th>cashRatio</th>\n",
       "      <th>daysOfSalesOutstanding</th>\n",
       "      <th>netProfitMargin</th>\n",
       "      <th>pretaxProfitMargin</th>\n",
       "      <th>grossProfitMargin</th>\n",
       "      <th>operatingProfitMargin</th>\n",
       "      <th>returnOnAssets</th>\n",
       "      <th>...</th>\n",
       "      <th>effectiveTaxRate</th>\n",
       "      <th>freeCashFlowOperatingCashFlowRatio</th>\n",
       "      <th>freeCashFlowPerShare</th>\n",
       "      <th>cashPerShare</th>\n",
       "      <th>companyEquityMultiplier</th>\n",
       "      <th>ebitPerRevenue</th>\n",
       "      <th>enterpriseValueMultiple</th>\n",
       "      <th>operatingCashFlowPerShare</th>\n",
       "      <th>operatingCashFlowSalesRatio</th>\n",
       "      <th>payablesTurnover</th>\n",
       "    </tr>\n",
       "  </thead>\n",
       "  <tbody>\n",
       "    <tr>\n",
       "      <th>0</th>\n",
       "      <td>3</td>\n",
       "      <td>0.945894</td>\n",
       "      <td>0.426395</td>\n",
       "      <td>0.099690</td>\n",
       "      <td>44.203245</td>\n",
       "      <td>0.037480</td>\n",
       "      <td>0.049351</td>\n",
       "      <td>0.176631</td>\n",
       "      <td>0.061510</td>\n",
       "      <td>0.041189</td>\n",
       "      <td>...</td>\n",
       "      <td>0.202716</td>\n",
       "      <td>0.437551</td>\n",
       "      <td>6.810673</td>\n",
       "      <td>9.809403</td>\n",
       "      <td>4.008012</td>\n",
       "      <td>0.049351</td>\n",
       "      <td>7.057088</td>\n",
       "      <td>15.565438</td>\n",
       "      <td>0.058638</td>\n",
       "      <td>3.906655</td>\n",
       "    </tr>\n",
       "    <tr>\n",
       "      <th>1</th>\n",
       "      <td>4</td>\n",
       "      <td>1.033559</td>\n",
       "      <td>0.498234</td>\n",
       "      <td>0.203120</td>\n",
       "      <td>38.991156</td>\n",
       "      <td>0.044062</td>\n",
       "      <td>0.048857</td>\n",
       "      <td>0.175715</td>\n",
       "      <td>0.066546</td>\n",
       "      <td>0.053204</td>\n",
       "      <td>...</td>\n",
       "      <td>0.074155</td>\n",
       "      <td>0.541997</td>\n",
       "      <td>8.625473</td>\n",
       "      <td>17.402270</td>\n",
       "      <td>3.156783</td>\n",
       "      <td>0.048857</td>\n",
       "      <td>6.460618</td>\n",
       "      <td>15.914250</td>\n",
       "      <td>0.067239</td>\n",
       "      <td>4.002846</td>\n",
       "    </tr>\n",
       "    <tr>\n",
       "      <th>2</th>\n",
       "      <td>4</td>\n",
       "      <td>0.963703</td>\n",
       "      <td>0.451505</td>\n",
       "      <td>0.122099</td>\n",
       "      <td>50.841385</td>\n",
       "      <td>0.032709</td>\n",
       "      <td>0.044334</td>\n",
       "      <td>0.170843</td>\n",
       "      <td>0.059783</td>\n",
       "      <td>0.032497</td>\n",
       "      <td>...</td>\n",
       "      <td>0.214529</td>\n",
       "      <td>0.513185</td>\n",
       "      <td>9.693487</td>\n",
       "      <td>13.103448</td>\n",
       "      <td>4.094575</td>\n",
       "      <td>0.044334</td>\n",
       "      <td>10.491970</td>\n",
       "      <td>18.888889</td>\n",
       "      <td>0.074426</td>\n",
       "      <td>3.483510</td>\n",
       "    </tr>\n",
       "    <tr>\n",
       "      <th>3</th>\n",
       "      <td>4</td>\n",
       "      <td>1.019851</td>\n",
       "      <td>0.510402</td>\n",
       "      <td>0.176116</td>\n",
       "      <td>41.161738</td>\n",
       "      <td>0.020894</td>\n",
       "      <td>-0.012858</td>\n",
       "      <td>0.138059</td>\n",
       "      <td>0.042430</td>\n",
       "      <td>0.025690</td>\n",
       "      <td>...</td>\n",
       "      <td>1.816667</td>\n",
       "      <td>-0.147170</td>\n",
       "      <td>-1.015625</td>\n",
       "      <td>14.440104</td>\n",
       "      <td>3.630950</td>\n",
       "      <td>-0.012858</td>\n",
       "      <td>4.080741</td>\n",
       "      <td>6.901042</td>\n",
       "      <td>0.028394</td>\n",
       "      <td>4.581150</td>\n",
       "    </tr>\n",
       "    <tr>\n",
       "      <th>4</th>\n",
       "      <td>4</td>\n",
       "      <td>0.957844</td>\n",
       "      <td>0.495432</td>\n",
       "      <td>0.141608</td>\n",
       "      <td>47.761126</td>\n",
       "      <td>0.042861</td>\n",
       "      <td>0.053770</td>\n",
       "      <td>0.177720</td>\n",
       "      <td>0.065354</td>\n",
       "      <td>0.046363</td>\n",
       "      <td>...</td>\n",
       "      <td>0.166966</td>\n",
       "      <td>0.451372</td>\n",
       "      <td>7.135348</td>\n",
       "      <td>14.257556</td>\n",
       "      <td>4.012780</td>\n",
       "      <td>0.053770</td>\n",
       "      <td>8.293505</td>\n",
       "      <td>15.808147</td>\n",
       "      <td>0.058065</td>\n",
       "      <td>3.857790</td>\n",
       "    </tr>\n",
       "  </tbody>\n",
       "</table>\n",
       "<p>5 rows × 26 columns</p>\n",
       "</div>"
      ],
      "text/plain": [
       "   Rating  currentRatio  quickRatio  cashRatio  daysOfSalesOutstanding  \\\n",
       "0       3      0.945894    0.426395   0.099690               44.203245   \n",
       "1       4      1.033559    0.498234   0.203120               38.991156   \n",
       "2       4      0.963703    0.451505   0.122099               50.841385   \n",
       "3       4      1.019851    0.510402   0.176116               41.161738   \n",
       "4       4      0.957844    0.495432   0.141608               47.761126   \n",
       "\n",
       "   netProfitMargin  pretaxProfitMargin  grossProfitMargin  \\\n",
       "0         0.037480            0.049351           0.176631   \n",
       "1         0.044062            0.048857           0.175715   \n",
       "2         0.032709            0.044334           0.170843   \n",
       "3         0.020894           -0.012858           0.138059   \n",
       "4         0.042861            0.053770           0.177720   \n",
       "\n",
       "   operatingProfitMargin  returnOnAssets  ...  effectiveTaxRate  \\\n",
       "0               0.061510        0.041189  ...          0.202716   \n",
       "1               0.066546        0.053204  ...          0.074155   \n",
       "2               0.059783        0.032497  ...          0.214529   \n",
       "3               0.042430        0.025690  ...          1.816667   \n",
       "4               0.065354        0.046363  ...          0.166966   \n",
       "\n",
       "   freeCashFlowOperatingCashFlowRatio  freeCashFlowPerShare  cashPerShare  \\\n",
       "0                            0.437551              6.810673      9.809403   \n",
       "1                            0.541997              8.625473     17.402270   \n",
       "2                            0.513185              9.693487     13.103448   \n",
       "3                           -0.147170             -1.015625     14.440104   \n",
       "4                            0.451372              7.135348     14.257556   \n",
       "\n",
       "   companyEquityMultiplier  ebitPerRevenue  enterpriseValueMultiple  \\\n",
       "0                 4.008012        0.049351                 7.057088   \n",
       "1                 3.156783        0.048857                 6.460618   \n",
       "2                 4.094575        0.044334                10.491970   \n",
       "3                 3.630950       -0.012858                 4.080741   \n",
       "4                 4.012780        0.053770                 8.293505   \n",
       "\n",
       "   operatingCashFlowPerShare  operatingCashFlowSalesRatio  payablesTurnover  \n",
       "0                  15.565438                     0.058638          3.906655  \n",
       "1                  15.914250                     0.067239          4.002846  \n",
       "2                  18.888889                     0.074426          3.483510  \n",
       "3                   6.901042                     0.028394          4.581150  \n",
       "4                  15.808147                     0.058065          3.857790  \n",
       "\n",
       "[5 rows x 26 columns]"
      ]
     },
     "execution_count": 58,
     "metadata": {},
     "output_type": "execute_result"
    }
   ],
   "source": [
    "# import data\n",
    "corporate_pd = pd.read_csv(\"../corporate_rating.csv\")\n",
    "corporate_pd = corporate_pd.drop(['Name','Date','Rating Agency Name','Sector'],axis = 1)\n",
    "\n",
    "# drop corporations with 2 or less observations\n",
    "# https://stackoverflow.com/questions/29836836/how-do-i-filter-a-pandas-dataframe-based-on-value-counts\n",
    "corporate_filtered = corporate_pd.groupby('Symbol').filter(lambda x: len(x) > 2)\n",
    "\n",
    "corporate_filtered = corporate_filtered.drop('Symbol',axis = 1)\n",
    "# convert the ratings to numerical values\n",
    "ratings = corporate_filtered['Rating'].unique()\n",
    "values = [3,4,2,5,6,7,10,8,1,9]\n",
    "corporate_filtered['Rating'].replace(ratings,values,inplace=True)\n",
    "corporate_filtered.head()"
   ]
  },
  {
   "cell_type": "code",
   "execution_count": 59,
   "id": "b7248139",
   "metadata": {},
   "outputs": [
    {
     "data": {
      "text/plain": [
       "array([[ 3.        ,  0.9458936 ,  0.42639463, ..., 15.56543837,\n",
       "         0.05863769,  3.90665455],\n",
       "       [ 4.        ,  1.03355902,  0.49823374, ..., 15.91424968,\n",
       "         0.06723853,  4.00284605],\n",
       "       [ 4.        ,  0.96370344,  0.45150542, ..., 18.88888889,\n",
       "         0.07442633,  3.48350951],\n",
       "       ...,\n",
       "       [ 6.        ,  0.88387525,  0.84255282, ...,  1.5753285 ,\n",
       "         0.28363421,  2.30016775],\n",
       "       [ 6.        ,  0.91171323,  0.74835646, ...,  1.07444056,\n",
       "         0.21778343,  1.99760765],\n",
       "       [ 7.        ,  1.0850071 ,  1.02637452, ...,  2.25865015,\n",
       "         0.25260643,  1.86568167]])"
      ]
     },
     "execution_count": 59,
     "metadata": {},
     "output_type": "execute_result"
    }
   ],
   "source": [
    "corporate_filtered_np = corporate_filtered.to_numpy()\n",
    "corporate_filtered_np"
   ]
  },
  {
   "cell_type": "markdown",
   "id": "f7a13ab5",
   "metadata": {},
   "source": [
    "## Split the data into 10% testing and 90% training"
   ]
  },
  {
   "cell_type": "code",
   "execution_count": 60,
   "id": "94fdd5f5",
   "metadata": {},
   "outputs": [],
   "source": [
    "# sample 10% of the total data in the test set\n",
    "def split_train_test(data):\n",
    "    np.random.seed(0)\n",
    "    # sample 10% of the total number of indices \n",
    "    index = np.random.choice(len(data), size = len(data) // 10, replace = False)\n",
    "    # save 10% in the test set\n",
    "    test = data[index,:]\n",
    "    # save the rest in the training set\n",
    "    train = np.delete(data, index, axis = 0)\n",
    "    return train,test"
   ]
  },
  {
   "cell_type": "code",
   "execution_count": 61,
   "id": "409ab917",
   "metadata": {},
   "outputs": [
    {
     "name": "stdout",
     "output_type": "stream",
     "text": [
      "(173, 26)\n",
      "(1565, 26)\n"
     ]
    }
   ],
   "source": [
    "train,test = split_train_test(corporate_filtered_np)\n",
    "print(test.shape)\n",
    "print(train.shape)"
   ]
  },
  {
   "cell_type": "markdown",
   "id": "691355a0",
   "metadata": {},
   "source": [
    "## Split the data into ratings and features"
   ]
  },
  {
   "cell_type": "code",
   "execution_count": 62,
   "id": "0aecad67",
   "metadata": {},
   "outputs": [],
   "source": [
    "def split_rating_features(data):\n",
    "    ratings = data[:,0]\n",
    "    features = data[:,1:]\n",
    "    return ratings, features"
   ]
  },
  {
   "cell_type": "code",
   "execution_count": 116,
   "id": "db921ade",
   "metadata": {},
   "outputs": [
    {
     "data": {
      "text/plain": [
       "(173, 25)"
      ]
     },
     "execution_count": 116,
     "metadata": {},
     "output_type": "execute_result"
    }
   ],
   "source": [
    "test_ratings, test_features = split_rating_features(test)\n",
    "train_ratings, train_features = split_rating_features(train)\n",
    "test_features.shape"
   ]
  },
  {
   "cell_type": "markdown",
   "id": "a213091f",
   "metadata": {},
   "source": [
    "## Neural Network with ReLU activation function"
   ]
  },
  {
   "cell_type": "code",
   "execution_count": 77,
   "id": "a712d54f",
   "metadata": {},
   "outputs": [],
   "source": [
    "# build a neural network with 3 layers\n",
    "# the output layer has vector size of 10 since we have 10 credit ratings\n",
    "model1 = tf.keras.models.Sequential([\n",
    "  tf.keras.layers.Dense(25, activation='relu'),\n",
    "  tf.keras.layers.Dropout(0.2),\n",
    "  tf.keras.layers.Dense(11)\n",
    "])\n",
    "\n",
    "# Defining the loss function\n",
    "loss_fn = tf.keras.losses.SparseCategoricalCrossentropy(from_logits=True)\n",
    "\n",
    "model1.compile(optimizer = 'adam',\n",
    "              loss = loss_fn,\n",
    "              metrics = ['accuracy'])"
   ]
  },
  {
   "cell_type": "code",
   "execution_count": 115,
   "id": "37685a97",
   "metadata": {},
   "outputs": [
    {
     "name": "stdout",
     "output_type": "stream",
     "text": [
      "Epoch 1/8\n",
      "49/49 [==============================] - 0s 2ms/step - loss: 99.2233 - accuracy: 0.2869\n",
      "Epoch 2/8\n",
      "49/49 [==============================] - 0s 2ms/step - loss: 49.0354 - accuracy: 0.2984\n",
      "Epoch 3/8\n",
      "49/49 [==============================] - 0s 2ms/step - loss: 13.6761 - accuracy: 0.2939\n",
      "Epoch 4/8\n",
      "49/49 [==============================] - 0s 2ms/step - loss: 10.6637 - accuracy: 0.2914\n",
      "Epoch 5/8\n",
      "49/49 [==============================] - 0s 2ms/step - loss: 633.4827 - accuracy: 0.3214\n",
      "Epoch 6/8\n",
      "49/49 [==============================] - 0s 2ms/step - loss: 15.2156 - accuracy: 0.3195\n",
      "Epoch 7/8\n",
      "49/49 [==============================] - 0s 2ms/step - loss: 751.0184 - accuracy: 0.3182\n",
      "Epoch 8/8\n",
      "49/49 [==============================] - 0s 2ms/step - loss: 554.1583 - accuracy: 0.3099\n"
     ]
    },
    {
     "data": {
      "text/plain": [
       "<keras.callbacks.History at 0x221d2041e80>"
      ]
     },
     "execution_count": 115,
     "metadata": {},
     "output_type": "execute_result"
    }
   ],
   "source": [
    "# fit the model\n",
    "train_features = np.asarray(train_features).astype('float32')\n",
    "model1.fit(train_features, train_ratings, epochs=8)"
   ]
  },
  {
   "cell_type": "code",
   "execution_count": 83,
   "id": "9007fa06",
   "metadata": {},
   "outputs": [
    {
     "name": "stdout",
     "output_type": "stream",
     "text": [
      "6/6 - 0s - loss: 772.1143 - accuracy: 0.3064 - 32ms/epoch - 5ms/step\n"
     ]
    },
    {
     "data": {
      "text/plain": [
       "[772.1143188476562, 0.30635836720466614]"
      ]
     },
     "execution_count": 83,
     "metadata": {},
     "output_type": "execute_result"
    }
   ],
   "source": [
    "# test the model\n",
    "model1.evaluate(test_features, test_ratings, verbose=2)"
   ]
  },
  {
   "cell_type": "markdown",
   "id": "b6f2fe04",
   "metadata": {},
   "source": [
    "## Neural Network with Sigmoid activation function"
   ]
  },
  {
   "cell_type": "code",
   "execution_count": 114,
   "id": "ebdca65c",
   "metadata": {},
   "outputs": [
    {
     "name": "stdout",
     "output_type": "stream",
     "text": [
      "Epoch 1/8\n",
      "49/49 [==============================] - 1s 2ms/step - loss: 2.7671 - accuracy: 0.0569\n",
      "Epoch 2/8\n",
      "49/49 [==============================] - 0s 1ms/step - loss: 2.2963 - accuracy: 0.1617\n",
      "Epoch 3/8\n",
      "49/49 [==============================] - 0s 1ms/step - loss: 2.0466 - accuracy: 0.2173\n",
      "Epoch 4/8\n",
      "49/49 [==============================] - 0s 2ms/step - loss: 1.8647 - accuracy: 0.2709\n",
      "Epoch 5/8\n",
      "49/49 [==============================] - 0s 2ms/step - loss: 1.7760 - accuracy: 0.2728\n",
      "Epoch 6/8\n",
      "49/49 [==============================] - 0s 2ms/step - loss: 1.7036 - accuracy: 0.3131\n",
      "Epoch 7/8\n",
      "49/49 [==============================] - 0s 2ms/step - loss: 1.6623 - accuracy: 0.3246\n",
      "Epoch 8/8\n",
      "49/49 [==============================] - 0s 2ms/step - loss: 1.6200 - accuracy: 0.3540\n"
     ]
    },
    {
     "data": {
      "text/plain": [
       "<keras.callbacks.History at 0x221d7f003d0>"
      ]
     },
     "execution_count": 114,
     "metadata": {},
     "output_type": "execute_result"
    }
   ],
   "source": [
    "model2 = tf.keras.models.Sequential([\n",
    "  tf.keras.layers.Dense(20, activation='sigmoid'),\n",
    "  tf.keras.layers.Dropout(0.2),\n",
    "  tf.keras.layers.Dense(11)\n",
    "])\n",
    "\n",
    "# Defining the loss function\n",
    "loss_fn = tf.keras.losses.SparseCategoricalCrossentropy(from_logits=True)\n",
    "\n",
    "model2.compile(optimizer = 'adam',\n",
    "              loss = loss_fn,\n",
    "              metrics = ['accuracy'])\n",
    "\n",
    "# fit the model\n",
    "train_features = np.asarray(train_features).astype('float32')\n",
    "model2.fit(train_features, train_ratings, epochs=8)"
   ]
  },
  {
   "cell_type": "code",
   "execution_count": 85,
   "id": "5d2b3795",
   "metadata": {},
   "outputs": [
    {
     "name": "stdout",
     "output_type": "stream",
     "text": [
      "6/6 - 0s - loss: 1.5514 - accuracy: 0.3064 - 133ms/epoch - 22ms/step\n"
     ]
    },
    {
     "data": {
      "text/plain": [
       "[1.5513993501663208, 0.30635836720466614]"
      ]
     },
     "execution_count": 85,
     "metadata": {},
     "output_type": "execute_result"
    }
   ],
   "source": [
    "# test the model\n",
    "model2.evaluate(test_features,  test_ratings, verbose=2)"
   ]
  },
  {
   "cell_type": "markdown",
   "id": "db67532d",
   "metadata": {},
   "source": [
    "## Multi-layer perceptron Neural Network\n",
    "INTRODUCTION"
   ]
  },
  {
   "cell_type": "code",
   "execution_count": 108,
   "id": "05184ad0",
   "metadata": {},
   "outputs": [],
   "source": [
    "# MLP\n",
    "\n",
    "model3 = MLPClassifier(hidden_layer_sizes=(4,6),\n",
    "                    random_state=5,\n",
    "                    verbose=True,\n",
    "                    learning_rate_init=0.01)"
   ]
  },
  {
   "cell_type": "code",
   "execution_count": 109,
   "id": "4715427a",
   "metadata": {},
   "outputs": [
    {
     "name": "stdout",
     "output_type": "stream",
     "text": [
      "Iteration 1, loss = 8.75818431\n",
      "Iteration 2, loss = 4.68719372\n",
      "Iteration 3, loss = 3.65880946\n",
      "Iteration 4, loss = 3.30186548\n",
      "Iteration 5, loss = 2.94362173\n",
      "Iteration 6, loss = 2.70342095\n",
      "Iteration 7, loss = 2.57266938\n",
      "Iteration 8, loss = 2.46533888\n",
      "Iteration 9, loss = 2.38477772\n",
      "Iteration 10, loss = 2.27392933\n",
      "Iteration 11, loss = 2.13652448\n",
      "Iteration 12, loss = 2.13587257\n",
      "Iteration 13, loss = 2.14991780\n",
      "Iteration 14, loss = 2.04848585\n",
      "Iteration 15, loss = 2.02043056\n",
      "Iteration 16, loss = 2.07099301\n",
      "Iteration 17, loss = 2.05107629\n",
      "Iteration 18, loss = 2.01817288\n",
      "Iteration 19, loss = 1.91247309\n",
      "Iteration 20, loss = 1.91551477\n",
      "Iteration 21, loss = 1.96434993\n",
      "Iteration 22, loss = 1.94935140\n",
      "Iteration 23, loss = 1.87357697\n",
      "Iteration 24, loss = 1.86244583\n",
      "Iteration 25, loss = 1.91163897\n",
      "Iteration 26, loss = 1.91010792\n",
      "Iteration 27, loss = 1.84933217\n",
      "Iteration 28, loss = 1.84943322\n",
      "Iteration 29, loss = 1.83490499\n",
      "Iteration 30, loss = 1.84437766\n",
      "Iteration 31, loss = 1.86151506\n",
      "Iteration 32, loss = 1.82536737\n",
      "Iteration 33, loss = 1.81388301\n",
      "Iteration 34, loss = 1.79985773\n",
      "Iteration 35, loss = 1.77333093\n",
      "Iteration 36, loss = 1.78458278\n",
      "Iteration 37, loss = 1.80467963\n",
      "Iteration 38, loss = 1.80276760\n",
      "Iteration 39, loss = 1.75153616\n",
      "Iteration 40, loss = 1.68009372\n",
      "Iteration 41, loss = 1.70600705\n",
      "Iteration 42, loss = 1.71502848\n",
      "Iteration 43, loss = 1.66640133\n",
      "Iteration 44, loss = 1.67862851\n",
      "Iteration 45, loss = 1.67613031\n",
      "Iteration 46, loss = 1.71234636\n",
      "Iteration 47, loss = 1.71119899\n",
      "Iteration 48, loss = 1.71447871\n",
      "Iteration 49, loss = 1.70896197\n",
      "Iteration 50, loss = 1.69925452\n",
      "Iteration 51, loss = 1.68062698\n",
      "Iteration 52, loss = 1.65556837\n",
      "Iteration 53, loss = 1.66689552\n",
      "Iteration 54, loss = 1.65498196\n",
      "Iteration 55, loss = 1.73958646\n",
      "Iteration 56, loss = 1.67763571\n",
      "Iteration 57, loss = 1.62650096\n",
      "Iteration 58, loss = 1.61124627\n",
      "Iteration 59, loss = 1.63314243\n",
      "Iteration 60, loss = 1.67589244\n",
      "Iteration 61, loss = 1.65137530\n",
      "Iteration 62, loss = 1.67185462\n",
      "Iteration 63, loss = 1.61397533\n",
      "Iteration 64, loss = 1.60057027\n",
      "Iteration 65, loss = 1.62918118\n",
      "Iteration 66, loss = 1.68112607\n",
      "Iteration 67, loss = 1.64428481\n",
      "Iteration 68, loss = 1.65865565\n",
      "Iteration 69, loss = 1.66394110\n",
      "Iteration 70, loss = 1.67887045\n",
      "Iteration 71, loss = 1.68718275\n",
      "Iteration 72, loss = 1.68326044\n",
      "Iteration 73, loss = 1.59607918\n",
      "Iteration 74, loss = 1.63647897\n",
      "Iteration 75, loss = 1.60960083\n",
      "Iteration 76, loss = 1.64387597\n",
      "Iteration 77, loss = 1.63276461\n",
      "Iteration 78, loss = 1.63215127\n",
      "Iteration 79, loss = 1.62418355\n",
      "Iteration 80, loss = 1.69063540\n",
      "Iteration 81, loss = 1.65498541\n",
      "Iteration 82, loss = 1.63767342\n",
      "Iteration 83, loss = 1.63262080\n",
      "Iteration 84, loss = 1.63508588\n",
      "Training loss did not improve more than tol=0.000100 for 10 consecutive epochs. Stopping.\n"
     ]
    },
    {
     "data": {
      "text/html": [
       "<style>#sk-container-id-6 {color: black;background-color: white;}#sk-container-id-6 pre{padding: 0;}#sk-container-id-6 div.sk-toggleable {background-color: white;}#sk-container-id-6 label.sk-toggleable__label {cursor: pointer;display: block;width: 100%;margin-bottom: 0;padding: 0.3em;box-sizing: border-box;text-align: center;}#sk-container-id-6 label.sk-toggleable__label-arrow:before {content: \"▸\";float: left;margin-right: 0.25em;color: #696969;}#sk-container-id-6 label.sk-toggleable__label-arrow:hover:before {color: black;}#sk-container-id-6 div.sk-estimator:hover label.sk-toggleable__label-arrow:before {color: black;}#sk-container-id-6 div.sk-toggleable__content {max-height: 0;max-width: 0;overflow: hidden;text-align: left;background-color: #f0f8ff;}#sk-container-id-6 div.sk-toggleable__content pre {margin: 0.2em;color: black;border-radius: 0.25em;background-color: #f0f8ff;}#sk-container-id-6 input.sk-toggleable__control:checked~div.sk-toggleable__content {max-height: 200px;max-width: 100%;overflow: auto;}#sk-container-id-6 input.sk-toggleable__control:checked~label.sk-toggleable__label-arrow:before {content: \"▾\";}#sk-container-id-6 div.sk-estimator input.sk-toggleable__control:checked~label.sk-toggleable__label {background-color: #d4ebff;}#sk-container-id-6 div.sk-label input.sk-toggleable__control:checked~label.sk-toggleable__label {background-color: #d4ebff;}#sk-container-id-6 input.sk-hidden--visually {border: 0;clip: rect(1px 1px 1px 1px);clip: rect(1px, 1px, 1px, 1px);height: 1px;margin: -1px;overflow: hidden;padding: 0;position: absolute;width: 1px;}#sk-container-id-6 div.sk-estimator {font-family: monospace;background-color: #f0f8ff;border: 1px dotted black;border-radius: 0.25em;box-sizing: border-box;margin-bottom: 0.5em;}#sk-container-id-6 div.sk-estimator:hover {background-color: #d4ebff;}#sk-container-id-6 div.sk-parallel-item::after {content: \"\";width: 100%;border-bottom: 1px solid gray;flex-grow: 1;}#sk-container-id-6 div.sk-label:hover label.sk-toggleable__label {background-color: #d4ebff;}#sk-container-id-6 div.sk-serial::before {content: \"\";position: absolute;border-left: 1px solid gray;box-sizing: border-box;top: 0;bottom: 0;left: 50%;z-index: 0;}#sk-container-id-6 div.sk-serial {display: flex;flex-direction: column;align-items: center;background-color: white;padding-right: 0.2em;padding-left: 0.2em;position: relative;}#sk-container-id-6 div.sk-item {position: relative;z-index: 1;}#sk-container-id-6 div.sk-parallel {display: flex;align-items: stretch;justify-content: center;background-color: white;position: relative;}#sk-container-id-6 div.sk-item::before, #sk-container-id-6 div.sk-parallel-item::before {content: \"\";position: absolute;border-left: 1px solid gray;box-sizing: border-box;top: 0;bottom: 0;left: 50%;z-index: -1;}#sk-container-id-6 div.sk-parallel-item {display: flex;flex-direction: column;z-index: 1;position: relative;background-color: white;}#sk-container-id-6 div.sk-parallel-item:first-child::after {align-self: flex-end;width: 50%;}#sk-container-id-6 div.sk-parallel-item:last-child::after {align-self: flex-start;width: 50%;}#sk-container-id-6 div.sk-parallel-item:only-child::after {width: 0;}#sk-container-id-6 div.sk-dashed-wrapped {border: 1px dashed gray;margin: 0 0.4em 0.5em 0.4em;box-sizing: border-box;padding-bottom: 0.4em;background-color: white;}#sk-container-id-6 div.sk-label label {font-family: monospace;font-weight: bold;display: inline-block;line-height: 1.2em;}#sk-container-id-6 div.sk-label-container {text-align: center;}#sk-container-id-6 div.sk-container {/* jupyter's `normalize.less` sets `[hidden] { display: none; }` but bootstrap.min.css set `[hidden] { display: none !important; }` so we also need the `!important` here to be able to override the default hidden behavior on the sphinx rendered scikit-learn.org. See: https://github.com/scikit-learn/scikit-learn/issues/21755 */display: inline-block !important;position: relative;}#sk-container-id-6 div.sk-text-repr-fallback {display: none;}</style><div id=\"sk-container-id-6\" class=\"sk-top-container\"><div class=\"sk-text-repr-fallback\"><pre>MLPClassifier(hidden_layer_sizes=(4, 6), learning_rate_init=0.01,\n",
       "              random_state=5, verbose=True)</pre><b>In a Jupyter environment, please rerun this cell to show the HTML representation or trust the notebook. <br />On GitHub, the HTML representation is unable to render, please try loading this page with nbviewer.org.</b></div><div class=\"sk-container\" hidden><div class=\"sk-item\"><div class=\"sk-estimator sk-toggleable\"><input class=\"sk-toggleable__control sk-hidden--visually\" id=\"sk-estimator-id-6\" type=\"checkbox\" checked><label for=\"sk-estimator-id-6\" class=\"sk-toggleable__label sk-toggleable__label-arrow\">MLPClassifier</label><div class=\"sk-toggleable__content\"><pre>MLPClassifier(hidden_layer_sizes=(4, 6), learning_rate_init=0.01,\n",
       "              random_state=5, verbose=True)</pre></div></div></div></div></div>"
      ],
      "text/plain": [
       "MLPClassifier(hidden_layer_sizes=(4, 6), learning_rate_init=0.01,\n",
       "              random_state=5, verbose=True)"
      ]
     },
     "execution_count": 109,
     "metadata": {},
     "output_type": "execute_result"
    }
   ],
   "source": [
    "# fit the data\n",
    "model3.fit(train_features,train_ratings)"
   ]
  },
  {
   "cell_type": "code",
   "execution_count": 110,
   "id": "4ab6897a",
   "metadata": {},
   "outputs": [],
   "source": [
    "# calculate classification mse\n",
    "def classification_mse(class_truth, pred_class):\n",
    "    error = 0\n",
    "    for i in range(len(class_truth)):\n",
    "        if class_truth[i] != pred_class[i]:\n",
    "            error = error + 1\n",
    "    return error/len(class_truth)"
   ]
  },
  {
   "cell_type": "code",
   "execution_count": 111,
   "id": "83f7b04c",
   "metadata": {},
   "outputs": [
    {
     "data": {
      "text/plain": [
       "0.7167630057803468"
      ]
     },
     "execution_count": 111,
     "metadata": {},
     "output_type": "execute_result"
    }
   ],
   "source": [
    "# make predictions on the test set\n",
    "preds=model3.predict(test_features)\n",
    "\n",
    "# compute the classification mse \n",
    "classification_mse(test_ratings, preds)"
   ]
  },
  {
   "cell_type": "markdown",
   "id": "e3ff11a4",
   "metadata": {},
   "source": [
    "## Summary"
   ]
  },
  {
   "cell_type": "markdown",
   "id": "10b15c31",
   "metadata": {},
   "source": [
    "### References:\n",
    "- Multilayer Perceptron Neural Network Tutorial: https://machinelearninggeek.com/multi-layer-perceptron-neural-network-using-python/\n",
    "- Select observations based on value counts:  https://stackoverflow.com/questions/29836836/how-do-i-filter-a-pandas-dataframe-based-on-value-counts"
   ]
  },
  {
   "cell_type": "code",
   "execution_count": null,
   "id": "7dff9999",
   "metadata": {},
   "outputs": [],
   "source": []
  }
 ],
 "metadata": {
  "kernelspec": {
   "display_name": "Python 3 (ipykernel)",
   "language": "python",
   "name": "python3"
  },
  "language_info": {
   "codemirror_mode": {
    "name": "ipython",
    "version": 3
   },
   "file_extension": ".py",
   "mimetype": "text/x-python",
   "name": "python",
   "nbconvert_exporter": "python",
   "pygments_lexer": "ipython3",
   "version": "3.9.7"
  }
 },
 "nbformat": 4,
 "nbformat_minor": 5
}

{
 "cells": [
  {
   "cell_type": "markdown",
   "id": "87c81da0",
   "metadata": {},
   "source": [
    "# Credit Rating Prediction\n",
    "### Deep Learning Classifiers with Neural Networks and Multi-layer Perceptrons (MLP)"
   ]
  },
  {
   "cell_type": "markdown",
   "id": "70f62a7b",
   "metadata": {},
   "source": [
    "## Introduction\n",
    "\n",
    "Similar to the classifier in the second project of this portfolio, this project continues to explore the question of predicting the credit rating of a corporation given its finanical indicators. Are we able to predict the credit ratings of corporations given historical ratings data and the financials of the companies?\n",
    "\n",
    "To answer the questions above, I built two Neural Networks with ReLU and sigmoid activation functions and a Multi-layer Perceptron Neural Network model to predict companies credit ratings based on historical ratings and financial indicators."
   ]
  },
  {
   "cell_type": "code",
   "execution_count": 86,
   "id": "cee53b0d",
   "metadata": {},
   "outputs": [],
   "source": [
    "# import \n",
    "import pandas as pd\n",
    "import numpy as np\n",
    "import tensorflow as tf\n",
    "from sklearn.neural_network import MLPClassifier"
   ]
  },
  {
   "cell_type": "markdown",
   "id": "91703e78",
   "metadata": {},
   "source": [
    "In order to make rational inferences, we want the historical rating data to be sequential or have at least multiple records of each of the companies. Here we choose to include data records for companies that have more than 2 rating records in the data."
   ]
  },
  {
   "cell_type": "code",
   "execution_count": 123,
   "id": "d54e8aed",
   "metadata": {},
   "outputs": [
    {
     "data": {
      "text/html": [
       "<div>\n",
       "<style scoped>\n",
       "    .dataframe tbody tr th:only-of-type {\n",
       "        vertical-align: middle;\n",
       "    }\n",
       "\n",
       "    .dataframe tbody tr th {\n",
       "        vertical-align: top;\n",
       "    }\n",
       "\n",
       "    .dataframe thead th {\n",
       "        text-align: right;\n",
       "    }\n",
       "</style>\n",
       "<table border=\"1\" class=\"dataframe\">\n",
       "  <thead>\n",
       "    <tr style=\"text-align: right;\">\n",
       "      <th></th>\n",
       "      <th>Rating</th>\n",
       "      <th>currentRatio</th>\n",
       "      <th>quickRatio</th>\n",
       "      <th>cashRatio</th>\n",
       "      <th>daysOfSalesOutstanding</th>\n",
       "      <th>netProfitMargin</th>\n",
       "      <th>pretaxProfitMargin</th>\n",
       "      <th>grossProfitMargin</th>\n",
       "      <th>operatingProfitMargin</th>\n",
       "      <th>returnOnAssets</th>\n",
       "      <th>...</th>\n",
       "      <th>effectiveTaxRate</th>\n",
       "      <th>freeCashFlowOperatingCashFlowRatio</th>\n",
       "      <th>freeCashFlowPerShare</th>\n",
       "      <th>cashPerShare</th>\n",
       "      <th>companyEquityMultiplier</th>\n",
       "      <th>ebitPerRevenue</th>\n",
       "      <th>enterpriseValueMultiple</th>\n",
       "      <th>operatingCashFlowPerShare</th>\n",
       "      <th>operatingCashFlowSalesRatio</th>\n",
       "      <th>payablesTurnover</th>\n",
       "    </tr>\n",
       "  </thead>\n",
       "  <tbody>\n",
       "    <tr>\n",
       "      <th>0</th>\n",
       "      <td>2</td>\n",
       "      <td>0.945894</td>\n",
       "      <td>0.426395</td>\n",
       "      <td>0.099690</td>\n",
       "      <td>44.203245</td>\n",
       "      <td>0.037480</td>\n",
       "      <td>0.049351</td>\n",
       "      <td>0.176631</td>\n",
       "      <td>0.061510</td>\n",
       "      <td>0.041189</td>\n",
       "      <td>...</td>\n",
       "      <td>0.202716</td>\n",
       "      <td>0.437551</td>\n",
       "      <td>6.810673</td>\n",
       "      <td>9.809403</td>\n",
       "      <td>4.008012</td>\n",
       "      <td>0.049351</td>\n",
       "      <td>7.057088</td>\n",
       "      <td>15.565438</td>\n",
       "      <td>0.058638</td>\n",
       "      <td>3.906655</td>\n",
       "    </tr>\n",
       "    <tr>\n",
       "      <th>1</th>\n",
       "      <td>3</td>\n",
       "      <td>1.033559</td>\n",
       "      <td>0.498234</td>\n",
       "      <td>0.203120</td>\n",
       "      <td>38.991156</td>\n",
       "      <td>0.044062</td>\n",
       "      <td>0.048857</td>\n",
       "      <td>0.175715</td>\n",
       "      <td>0.066546</td>\n",
       "      <td>0.053204</td>\n",
       "      <td>...</td>\n",
       "      <td>0.074155</td>\n",
       "      <td>0.541997</td>\n",
       "      <td>8.625473</td>\n",
       "      <td>17.402270</td>\n",
       "      <td>3.156783</td>\n",
       "      <td>0.048857</td>\n",
       "      <td>6.460618</td>\n",
       "      <td>15.914250</td>\n",
       "      <td>0.067239</td>\n",
       "      <td>4.002846</td>\n",
       "    </tr>\n",
       "    <tr>\n",
       "      <th>2</th>\n",
       "      <td>3</td>\n",
       "      <td>0.963703</td>\n",
       "      <td>0.451505</td>\n",
       "      <td>0.122099</td>\n",
       "      <td>50.841385</td>\n",
       "      <td>0.032709</td>\n",
       "      <td>0.044334</td>\n",
       "      <td>0.170843</td>\n",
       "      <td>0.059783</td>\n",
       "      <td>0.032497</td>\n",
       "      <td>...</td>\n",
       "      <td>0.214529</td>\n",
       "      <td>0.513185</td>\n",
       "      <td>9.693487</td>\n",
       "      <td>13.103448</td>\n",
       "      <td>4.094575</td>\n",
       "      <td>0.044334</td>\n",
       "      <td>10.491970</td>\n",
       "      <td>18.888889</td>\n",
       "      <td>0.074426</td>\n",
       "      <td>3.483510</td>\n",
       "    </tr>\n",
       "    <tr>\n",
       "      <th>3</th>\n",
       "      <td>3</td>\n",
       "      <td>1.019851</td>\n",
       "      <td>0.510402</td>\n",
       "      <td>0.176116</td>\n",
       "      <td>41.161738</td>\n",
       "      <td>0.020894</td>\n",
       "      <td>-0.012858</td>\n",
       "      <td>0.138059</td>\n",
       "      <td>0.042430</td>\n",
       "      <td>0.025690</td>\n",
       "      <td>...</td>\n",
       "      <td>1.816667</td>\n",
       "      <td>-0.147170</td>\n",
       "      <td>-1.015625</td>\n",
       "      <td>14.440104</td>\n",
       "      <td>3.630950</td>\n",
       "      <td>-0.012858</td>\n",
       "      <td>4.080741</td>\n",
       "      <td>6.901042</td>\n",
       "      <td>0.028394</td>\n",
       "      <td>4.581150</td>\n",
       "    </tr>\n",
       "    <tr>\n",
       "      <th>4</th>\n",
       "      <td>3</td>\n",
       "      <td>0.957844</td>\n",
       "      <td>0.495432</td>\n",
       "      <td>0.141608</td>\n",
       "      <td>47.761126</td>\n",
       "      <td>0.042861</td>\n",
       "      <td>0.053770</td>\n",
       "      <td>0.177720</td>\n",
       "      <td>0.065354</td>\n",
       "      <td>0.046363</td>\n",
       "      <td>...</td>\n",
       "      <td>0.166966</td>\n",
       "      <td>0.451372</td>\n",
       "      <td>7.135348</td>\n",
       "      <td>14.257556</td>\n",
       "      <td>4.012780</td>\n",
       "      <td>0.053770</td>\n",
       "      <td>8.293505</td>\n",
       "      <td>15.808147</td>\n",
       "      <td>0.058065</td>\n",
       "      <td>3.857790</td>\n",
       "    </tr>\n",
       "  </tbody>\n",
       "</table>\n",
       "<p>5 rows × 26 columns</p>\n",
       "</div>"
      ],
      "text/plain": [
       "   Rating  currentRatio  quickRatio  cashRatio  daysOfSalesOutstanding  \\\n",
       "0       2      0.945894    0.426395   0.099690               44.203245   \n",
       "1       3      1.033559    0.498234   0.203120               38.991156   \n",
       "2       3      0.963703    0.451505   0.122099               50.841385   \n",
       "3       3      1.019851    0.510402   0.176116               41.161738   \n",
       "4       3      0.957844    0.495432   0.141608               47.761126   \n",
       "\n",
       "   netProfitMargin  pretaxProfitMargin  grossProfitMargin  \\\n",
       "0         0.037480            0.049351           0.176631   \n",
       "1         0.044062            0.048857           0.175715   \n",
       "2         0.032709            0.044334           0.170843   \n",
       "3         0.020894           -0.012858           0.138059   \n",
       "4         0.042861            0.053770           0.177720   \n",
       "\n",
       "   operatingProfitMargin  returnOnAssets  ...  effectiveTaxRate  \\\n",
       "0               0.061510        0.041189  ...          0.202716   \n",
       "1               0.066546        0.053204  ...          0.074155   \n",
       "2               0.059783        0.032497  ...          0.214529   \n",
       "3               0.042430        0.025690  ...          1.816667   \n",
       "4               0.065354        0.046363  ...          0.166966   \n",
       "\n",
       "   freeCashFlowOperatingCashFlowRatio  freeCashFlowPerShare  cashPerShare  \\\n",
       "0                            0.437551              6.810673      9.809403   \n",
       "1                            0.541997              8.625473     17.402270   \n",
       "2                            0.513185              9.693487     13.103448   \n",
       "3                           -0.147170             -1.015625     14.440104   \n",
       "4                            0.451372              7.135348     14.257556   \n",
       "\n",
       "   companyEquityMultiplier  ebitPerRevenue  enterpriseValueMultiple  \\\n",
       "0                 4.008012        0.049351                 7.057088   \n",
       "1                 3.156783        0.048857                 6.460618   \n",
       "2                 4.094575        0.044334                10.491970   \n",
       "3                 3.630950       -0.012858                 4.080741   \n",
       "4                 4.012780        0.053770                 8.293505   \n",
       "\n",
       "   operatingCashFlowPerShare  operatingCashFlowSalesRatio  payablesTurnover  \n",
       "0                  15.565438                     0.058638          3.906655  \n",
       "1                  15.914250                     0.067239          4.002846  \n",
       "2                  18.888889                     0.074426          3.483510  \n",
       "3                   6.901042                     0.028394          4.581150  \n",
       "4                  15.808147                     0.058065          3.857790  \n",
       "\n",
       "[5 rows x 26 columns]"
      ]
     },
     "execution_count": 123,
     "metadata": {},
     "output_type": "execute_result"
    }
   ],
   "source": [
    "# import data\n",
    "corporate_pd = pd.read_csv(\"../corporate_rating.csv\")\n",
    "corporate_pd = corporate_pd.drop(['Name','Date','Rating Agency Name','Sector'],axis = 1)\n",
    "\n",
    "# drop corporations with 2 or less observations\n",
    "# https://stackoverflow.com/questions/29836836/how-do-i-filter-a-pandas-dataframe-based-on-value-counts\n",
    "corporate_filtered = corporate_pd.groupby('Symbol').filter(lambda x: len(x) > 2)\n",
    "corporate_filtered = corporate_filtered.drop('Symbol',axis = 1)\n",
    "\n",
    "# convert the ratings to numerical values\n",
    "ratings = corporate_filtered['Rating'].unique()\n",
    "values = [2,3,1,4,5,6,9,7,0,8]\n",
    "corporate_filtered['Rating'].replace(ratings,values,inplace=True)\n",
    "corporate_filtered.head()"
   ]
  },
  {
   "cell_type": "code",
   "execution_count": 124,
   "id": "6e236536",
   "metadata": {},
   "outputs": [
    {
     "data": {
      "text/plain": [
       "array([[ 2.        ,  0.9458936 ,  0.42639463, ..., 15.56543837,\n",
       "         0.05863769,  3.90665455],\n",
       "       [ 3.        ,  1.03355902,  0.49823374, ..., 15.91424968,\n",
       "         0.06723853,  4.00284605],\n",
       "       [ 3.        ,  0.96370344,  0.45150542, ..., 18.88888889,\n",
       "         0.07442633,  3.48350951],\n",
       "       ...,\n",
       "       [ 5.        ,  0.88387525,  0.84255282, ...,  1.5753285 ,\n",
       "         0.28363421,  2.30016775],\n",
       "       [ 5.        ,  0.91171323,  0.74835646, ...,  1.07444056,\n",
       "         0.21778343,  1.99760765],\n",
       "       [ 6.        ,  1.0850071 ,  1.02637452, ...,  2.25865015,\n",
       "         0.25260643,  1.86568167]])"
      ]
     },
     "execution_count": 124,
     "metadata": {},
     "output_type": "execute_result"
    }
   ],
   "source": [
    "corporate_filtered_np = corporate_filtered.to_numpy()\n",
    "corporate_filtered_np"
   ]
  },
  {
   "cell_type": "markdown",
   "id": "0bedf397",
   "metadata": {},
   "source": [
    "## Split the data into 10% testing and 90% training\n",
    "\n",
    "In order to get the parameters of the data, we split the filtered data into 90% training and 10% testing. We will first train our models on the training data and test its prediction mse on the test set."
   ]
  },
  {
   "cell_type": "code",
   "execution_count": 125,
   "id": "ca0fa238",
   "metadata": {},
   "outputs": [],
   "source": [
    "# sample 10% of the total data in the test set\n",
    "def split_train_test(data):\n",
    "    np.random.seed(0)\n",
    "    # sample 10% of the total number of indices \n",
    "    index = np.random.choice(len(data), size = len(data) // 10, replace = False)\n",
    "    # save 10% in the test set\n",
    "    test = data[index,:]\n",
    "    # save the rest in the training set\n",
    "    train = np.delete(data, index, axis = 0)\n",
    "    return train,test"
   ]
  },
  {
   "cell_type": "code",
   "execution_count": 126,
   "id": "690a448a",
   "metadata": {},
   "outputs": [
    {
     "name": "stdout",
     "output_type": "stream",
     "text": [
      "(173, 26)\n",
      "(1565, 26)\n"
     ]
    }
   ],
   "source": [
    "train,test = split_train_test(corporate_filtered_np)\n",
    "print(test.shape)\n",
    "print(train.shape)"
   ]
  },
  {
   "cell_type": "markdown",
   "id": "c67e692a",
   "metadata": {},
   "source": [
    "## Split the data into ratings and features\n",
    "\n",
    "For each of the deep learning models, the model takes in the 25 numerical features in the data and outputs the classification/ rating results. In the function defined below, we split the data into features(input) and ratings(output)."
   ]
  },
  {
   "cell_type": "code",
   "execution_count": 127,
   "id": "bb7003a3",
   "metadata": {},
   "outputs": [],
   "source": [
    "def split_rating_features(data):\n",
    "    ratings = data[:,0]\n",
    "    features = data[:,1:]\n",
    "    return ratings, features"
   ]
  },
  {
   "cell_type": "code",
   "execution_count": 128,
   "id": "87b42b7e",
   "metadata": {},
   "outputs": [
    {
     "data": {
      "text/plain": [
       "(173, 25)"
      ]
     },
     "execution_count": 128,
     "metadata": {},
     "output_type": "execute_result"
    }
   ],
   "source": [
    "test_ratings, test_features = split_rating_features(test)\n",
    "train_ratings, train_features = split_rating_features(train)\n",
    "test_features.shape"
   ]
  },
  {
   "cell_type": "markdown",
   "id": "e53c9090",
   "metadata": {},
   "source": [
    "## Neural Network with ReLU activation function\n",
    "\n",
    "Here we will build the first Neural Network with the ReLU activation function.\n",
    "\n",
    "This model has 3 layers:\n",
    "- The first layer takes in the input and sends out vectors of size 25\n",
    "- We drop a portion of the nodes mid-stream\n",
    "- The output layer outputs vectors of length 10 that corresponds to the 10 credit ratings"
   ]
  },
  {
   "cell_type": "code",
   "execution_count": 130,
   "id": "40fa6386",
   "metadata": {},
   "outputs": [],
   "source": [
    "# build a neural network with 3 layers\n",
    "# the output layer has vector size of 10 since we have 10 credit ratings\n",
    "model1 = tf.keras.models.Sequential([\n",
    "  tf.keras.layers.Dense(25, activation='relu'),\n",
    "  tf.keras.layers.Dropout(0.2),\n",
    "  tf.keras.layers.Dense(10)\n",
    "])\n",
    "\n",
    "# Defining the loss function\n",
    "loss_fn = tf.keras.losses.SparseCategoricalCrossentropy(from_logits=True)\n",
    "\n",
    "model1.compile(optimizer = 'adam',\n",
    "              loss = loss_fn,\n",
    "              metrics = ['accuracy'])"
   ]
  },
  {
   "cell_type": "code",
   "execution_count": 136,
   "id": "ba81465d",
   "metadata": {},
   "outputs": [
    {
     "name": "stdout",
     "output_type": "stream",
     "text": [
      "Epoch 1/5\n",
      "49/49 [==============================] - 0s 2ms/step - loss: 264.0391 - accuracy: 0.2530\n",
      "Epoch 2/5\n",
      "49/49 [==============================] - 0s 1ms/step - loss: 334.1320 - accuracy: 0.2581\n",
      "Epoch 3/5\n",
      "49/49 [==============================] - 0s 2ms/step - loss: 916.0688 - accuracy: 0.2645\n",
      "Epoch 4/5\n",
      "49/49 [==============================] - 0s 2ms/step - loss: 1141.2046 - accuracy: 0.2780\n",
      "Epoch 5/5\n",
      "49/49 [==============================] - 0s 2ms/step - loss: 1070.0509 - accuracy: 0.2760\n"
     ]
    },
    {
     "data": {
      "text/plain": [
       "<keras.callbacks.History at 0x221db3e6f70>"
      ]
     },
     "execution_count": 136,
     "metadata": {},
     "output_type": "execute_result"
    }
   ],
   "source": [
    "# fit the model\n",
    "train_features = np.asarray(train_features).astype('float32')\n",
    "model1.fit(train_features, train_ratings, epochs=5)"
   ]
  },
  {
   "cell_type": "code",
   "execution_count": 132,
   "id": "66b69628",
   "metadata": {},
   "outputs": [
    {
     "name": "stdout",
     "output_type": "stream",
     "text": [
      "6/6 - 0s - loss: 2086.7722 - accuracy: 0.2717 - 120ms/epoch - 20ms/step\n"
     ]
    },
    {
     "data": {
      "text/plain": [
       "[2086.772216796875, 0.27167630195617676]"
      ]
     },
     "execution_count": 132,
     "metadata": {},
     "output_type": "execute_result"
    }
   ],
   "source": [
    "# test the model\n",
    "model1.evaluate(test_features, test_ratings, verbose=2)"
   ]
  },
  {
   "cell_type": "markdown",
   "id": "efdf9248",
   "metadata": {},
   "source": [
    "The Neural Network model with the ReLU activiation function has accuracy of 27\\% which is not so ideal in term of predicting credit ratings. We will build another Neural Network model using the Sigmoid activation function."
   ]
  },
  {
   "cell_type": "markdown",
   "id": "717feac2",
   "metadata": {},
   "source": [
    "## Neural Network with Sigmoid activation function"
   ]
  },
  {
   "cell_type": "code",
   "execution_count": 135,
   "id": "a117c1e1",
   "metadata": {},
   "outputs": [
    {
     "name": "stdout",
     "output_type": "stream",
     "text": [
      "Epoch 1/5\n",
      "49/49 [==============================] - 1s 2ms/step - loss: 2.2443 - accuracy: 0.1821\n",
      "Epoch 2/5\n",
      "49/49 [==============================] - 0s 2ms/step - loss: 1.9180 - accuracy: 0.2543\n",
      "Epoch 3/5\n",
      "49/49 [==============================] - 0s 2ms/step - loss: 1.7595 - accuracy: 0.2939\n",
      "Epoch 4/5\n",
      "49/49 [==============================] - 0s 2ms/step - loss: 1.7006 - accuracy: 0.3086\n",
      "Epoch 5/5\n",
      "49/49 [==============================] - 0s 1ms/step - loss: 1.6611 - accuracy: 0.3246\n"
     ]
    },
    {
     "data": {
      "text/plain": [
       "<keras.callbacks.History at 0x221da1b7e80>"
      ]
     },
     "execution_count": 135,
     "metadata": {},
     "output_type": "execute_result"
    }
   ],
   "source": [
    "model2 = tf.keras.models.Sequential([\n",
    "  tf.keras.layers.Dense(20, activation='sigmoid'),\n",
    "  tf.keras.layers.Dropout(0.2),\n",
    "  tf.keras.layers.Dense(10)\n",
    "])\n",
    "\n",
    "# Defining the loss function\n",
    "loss_fn = tf.keras.losses.SparseCategoricalCrossentropy(from_logits=True)\n",
    "\n",
    "model2.compile(optimizer = 'adam',\n",
    "              loss = loss_fn,\n",
    "              metrics = ['accuracy'])\n",
    "\n",
    "# fit the model\n",
    "train_features = np.asarray(train_features).astype('float32')\n",
    "model2.fit(train_features, train_ratings, epochs=5)"
   ]
  },
  {
   "cell_type": "code",
   "execution_count": 137,
   "id": "13b01d90",
   "metadata": {},
   "outputs": [
    {
     "name": "stdout",
     "output_type": "stream",
     "text": [
      "6/6 - 0s - loss: 1.6277 - accuracy: 0.3179 - 139ms/epoch - 23ms/step\n"
     ]
    },
    {
     "data": {
      "text/plain": [
       "[1.6276652812957764, 0.3179190754890442]"
      ]
     },
     "execution_count": 137,
     "metadata": {},
     "output_type": "execute_result"
    }
   ],
   "source": [
    "# test the model\n",
    "model2.evaluate(test_features,  test_ratings, verbose=2)"
   ]
  },
  {
   "cell_type": "markdown",
   "id": "57a56476",
   "metadata": {},
   "source": [
    "Compared to the ReLU model, the Sigmoid model has a higher accuracy in term of prediction. Another thing I noticed when testing out the number of epochs to train the model is that the accuracy for both models actually decreases if the number of epochs gets too big."
   ]
  },
  {
   "cell_type": "markdown",
   "id": "ca25b452",
   "metadata": {},
   "source": [
    "## Multi-layer Perceptron Neural Network\n",
    "\n",
    "While a typical Neural Network has an input and an output layer, MLPs have the same input and output layers but may have multiple hidden layers in between.\n",
    "\n",
    "The parameters for an MLP model using sklearn library includes:\n",
    "\n",
    "- hidden_layer_sizes: it is a tuple where each element represents one layer and its value represents the number of neurons on each hidden layer.\n",
    "- learning_rate_init: It used to controls the step-size in updating the weights. \n",
    "- activation: Activation function for the hidden layer. Examples, identity, logistic, tanh, and relu. by default, relu is used as an activation function.\n",
    "- random_state: It defines the random number for weights and bias initialization. \n",
    "- verbose: It used to print progress messages to standard output.\n",
    "\n",
    "Here we build an MLP classifier with 4 hidden layers that each has 12 neurons within the layer."
   ]
  },
  {
   "cell_type": "code",
   "execution_count": 154,
   "id": "9d53e012",
   "metadata": {},
   "outputs": [],
   "source": [
    "# MLP model\n",
    "model3 = MLPClassifier(hidden_layer_sizes=(12,12,12,12),\n",
    "                    random_state=5,\n",
    "                    verbose=True,\n",
    "                    learning_rate_init=0.01)"
   ]
  },
  {
   "cell_type": "code",
   "execution_count": 155,
   "id": "346fc8b5",
   "metadata": {},
   "outputs": [
    {
     "name": "stdout",
     "output_type": "stream",
     "text": [
      "Iteration 1, loss = 3.72984181\n",
      "Iteration 2, loss = 2.45539575\n",
      "Iteration 3, loss = 2.41872758\n",
      "Iteration 4, loss = 2.42863294\n",
      "Iteration 5, loss = 2.33681491\n",
      "Iteration 6, loss = 2.09645417\n",
      "Iteration 7, loss = 2.00837448\n",
      "Iteration 8, loss = 1.93551072\n",
      "Iteration 9, loss = 1.89590582\n",
      "Iteration 10, loss = 1.89562857\n",
      "Iteration 11, loss = 1.86693820\n",
      "Iteration 12, loss = 1.79030502\n",
      "Iteration 13, loss = 1.76603240\n",
      "Iteration 14, loss = 1.71707904\n",
      "Iteration 15, loss = 1.68011463\n",
      "Iteration 16, loss = 1.67766815\n",
      "Iteration 17, loss = 1.65139638\n",
      "Iteration 18, loss = 1.64835176\n",
      "Iteration 19, loss = 1.62308430\n",
      "Iteration 20, loss = 1.62282310\n",
      "Iteration 21, loss = 1.61585122\n",
      "Iteration 22, loss = 1.61054233\n",
      "Iteration 23, loss = 1.60315863\n",
      "Iteration 24, loss = 1.59611257\n",
      "Iteration 25, loss = 1.59021970\n",
      "Iteration 26, loss = 1.58569127\n",
      "Iteration 27, loss = 1.57938786\n",
      "Iteration 28, loss = 1.57313440\n",
      "Iteration 29, loss = 1.56804517\n",
      "Iteration 30, loss = 1.56376281\n",
      "Iteration 31, loss = 1.55562172\n",
      "Iteration 32, loss = 1.55004296\n",
      "Iteration 33, loss = 1.54722464\n",
      "Iteration 34, loss = 1.54503239\n",
      "Iteration 35, loss = 1.53704538\n",
      "Iteration 36, loss = 1.53503227\n",
      "Iteration 37, loss = 1.53278526\n",
      "Iteration 38, loss = 1.53431596\n",
      "Iteration 39, loss = 1.52690641\n",
      "Iteration 40, loss = 1.52360420\n",
      "Iteration 41, loss = 1.51886180\n",
      "Iteration 42, loss = 1.51835064\n",
      "Iteration 43, loss = 1.51894770\n",
      "Iteration 44, loss = 1.52231282\n",
      "Iteration 45, loss = 1.50943457\n",
      "Iteration 46, loss = 1.50600930\n",
      "Iteration 47, loss = 1.50131244\n",
      "Iteration 48, loss = 1.49661316\n",
      "Iteration 49, loss = 1.49406174\n",
      "Iteration 50, loss = 1.49797134\n",
      "Iteration 51, loss = 1.49240676\n",
      "Iteration 52, loss = 1.49304161\n",
      "Iteration 53, loss = 1.48721089\n",
      "Iteration 54, loss = 1.48933915\n",
      "Iteration 55, loss = 1.48457928\n",
      "Iteration 56, loss = 1.49034814\n",
      "Iteration 57, loss = 1.49078079\n",
      "Iteration 58, loss = 1.48418984\n",
      "Iteration 59, loss = 1.47943667\n",
      "Iteration 60, loss = 1.48092822\n",
      "Iteration 61, loss = 1.47983137\n",
      "Iteration 62, loss = 1.46983949\n",
      "Iteration 63, loss = 1.46653229\n",
      "Iteration 64, loss = 1.46345258\n",
      "Iteration 65, loss = 1.46325201\n",
      "Iteration 66, loss = 1.46129151\n",
      "Iteration 67, loss = 1.45791366\n",
      "Iteration 68, loss = 1.45732032\n",
      "Iteration 69, loss = 1.45705614\n",
      "Iteration 70, loss = 1.46147855\n",
      "Iteration 71, loss = 1.46308655\n",
      "Iteration 72, loss = 1.46168799\n",
      "Iteration 73, loss = 1.45609530\n",
      "Iteration 74, loss = 1.45612343\n",
      "Iteration 75, loss = 1.45213150\n",
      "Iteration 76, loss = 1.44824361\n",
      "Iteration 77, loss = 1.44116401\n",
      "Iteration 78, loss = 1.43979704\n",
      "Iteration 79, loss = 1.43753788\n",
      "Iteration 80, loss = 1.43555733\n",
      "Iteration 81, loss = 1.43292883\n",
      "Iteration 82, loss = 1.42990300\n",
      "Iteration 83, loss = 1.43130595\n",
      "Iteration 84, loss = 1.42770728\n",
      "Iteration 85, loss = 1.42837047\n",
      "Iteration 86, loss = 1.43257198\n",
      "Iteration 87, loss = 1.42720590\n",
      "Iteration 88, loss = 1.42327111\n",
      "Iteration 89, loss = 1.42534900\n",
      "Iteration 90, loss = 1.41906314\n",
      "Iteration 91, loss = 1.41569054\n",
      "Iteration 92, loss = 1.41427439\n",
      "Iteration 93, loss = 1.41267526\n",
      "Iteration 94, loss = 1.41253570\n",
      "Iteration 95, loss = 1.40970490\n",
      "Iteration 96, loss = 1.40621560\n",
      "Iteration 97, loss = 1.40741087\n",
      "Iteration 98, loss = 1.41045948\n",
      "Iteration 99, loss = 1.41002292\n",
      "Iteration 100, loss = 1.40680407\n",
      "Iteration 101, loss = 1.40426962\n",
      "Iteration 102, loss = 1.39944933\n",
      "Iteration 103, loss = 1.40060405\n",
      "Iteration 104, loss = 1.40121130\n",
      "Iteration 105, loss = 1.39592742\n",
      "Iteration 106, loss = 1.39476900\n",
      "Iteration 107, loss = 1.39160487\n",
      "Iteration 108, loss = 1.39306741\n",
      "Iteration 109, loss = 1.38938560\n",
      "Iteration 110, loss = 1.38930944\n",
      "Iteration 111, loss = 1.38861325\n",
      "Iteration 112, loss = 1.38722078\n",
      "Iteration 113, loss = 1.38409766\n",
      "Iteration 114, loss = 1.38206968\n",
      "Iteration 115, loss = 1.38137287\n",
      "Iteration 116, loss = 1.38092812\n",
      "Iteration 117, loss = 1.37835556\n",
      "Iteration 118, loss = 1.38551201\n",
      "Iteration 119, loss = 1.38043713\n",
      "Iteration 120, loss = 1.37660646\n",
      "Iteration 121, loss = 1.37657752\n",
      "Iteration 122, loss = 1.38656647\n",
      "Iteration 123, loss = 1.37138588\n",
      "Iteration 124, loss = 1.37206140\n",
      "Iteration 125, loss = 1.36785649\n",
      "Iteration 126, loss = 1.37172660\n",
      "Iteration 127, loss = 1.36574247\n",
      "Iteration 128, loss = 1.36124232\n",
      "Iteration 129, loss = 1.36429597\n",
      "Iteration 130, loss = 1.35762275\n",
      "Iteration 131, loss = 1.36255672\n",
      "Iteration 132, loss = 1.35424668\n",
      "Iteration 133, loss = 1.35365148\n",
      "Iteration 134, loss = 1.35984808\n",
      "Iteration 135, loss = 1.35860439\n",
      "Iteration 136, loss = 1.36147386\n",
      "Iteration 137, loss = 1.35779371\n",
      "Iteration 138, loss = 1.35279637\n",
      "Iteration 139, loss = 1.35399379\n",
      "Iteration 140, loss = 1.34830362\n",
      "Iteration 141, loss = 1.34617936\n",
      "Iteration 142, loss = 1.34775696\n",
      "Iteration 143, loss = 1.35291108\n",
      "Iteration 144, loss = 1.34547653\n",
      "Iteration 145, loss = 1.33895392\n",
      "Iteration 146, loss = 1.34312035\n",
      "Iteration 147, loss = 1.35514895\n",
      "Iteration 148, loss = 1.35046792\n",
      "Iteration 149, loss = 1.34726034\n",
      "Iteration 150, loss = 1.34714347\n",
      "Iteration 151, loss = 1.34650822\n",
      "Iteration 152, loss = 1.35448303\n",
      "Iteration 153, loss = 1.33578974\n",
      "Iteration 154, loss = 1.33439309\n",
      "Iteration 155, loss = 1.33760121\n",
      "Iteration 156, loss = 1.33452290\n",
      "Iteration 157, loss = 1.34066085\n",
      "Iteration 158, loss = 1.33464272\n",
      "Iteration 159, loss = 1.33737374\n",
      "Iteration 160, loss = 1.33691451\n",
      "Iteration 161, loss = 1.33118235\n",
      "Iteration 162, loss = 1.32520485\n",
      "Iteration 163, loss = 1.32552277\n",
      "Iteration 164, loss = 1.32523436\n",
      "Iteration 165, loss = 1.32988918\n",
      "Iteration 166, loss = 1.32191798\n",
      "Iteration 167, loss = 1.32789344\n",
      "Iteration 168, loss = 1.32358244\n",
      "Iteration 169, loss = 1.31823452\n",
      "Iteration 170, loss = 1.31798343\n",
      "Iteration 171, loss = 1.31389586\n",
      "Iteration 172, loss = 1.34425435\n",
      "Iteration 173, loss = 1.39095203\n",
      "Iteration 174, loss = 1.44221204\n",
      "Iteration 175, loss = 1.42121425\n",
      "Iteration 176, loss = 1.40508273\n",
      "Iteration 177, loss = 1.39528443\n",
      "Iteration 178, loss = 1.38602312\n",
      "Iteration 179, loss = 1.37371357\n",
      "Iteration 180, loss = 1.35962358\n",
      "Iteration 181, loss = 1.35042745\n",
      "Iteration 182, loss = 1.34010776\n",
      "Training loss did not improve more than tol=0.000100 for 10 consecutive epochs. Stopping.\n"
     ]
    },
    {
     "data": {
      "text/html": [
       "<style>#sk-container-id-10 {color: black;background-color: white;}#sk-container-id-10 pre{padding: 0;}#sk-container-id-10 div.sk-toggleable {background-color: white;}#sk-container-id-10 label.sk-toggleable__label {cursor: pointer;display: block;width: 100%;margin-bottom: 0;padding: 0.3em;box-sizing: border-box;text-align: center;}#sk-container-id-10 label.sk-toggleable__label-arrow:before {content: \"▸\";float: left;margin-right: 0.25em;color: #696969;}#sk-container-id-10 label.sk-toggleable__label-arrow:hover:before {color: black;}#sk-container-id-10 div.sk-estimator:hover label.sk-toggleable__label-arrow:before {color: black;}#sk-container-id-10 div.sk-toggleable__content {max-height: 0;max-width: 0;overflow: hidden;text-align: left;background-color: #f0f8ff;}#sk-container-id-10 div.sk-toggleable__content pre {margin: 0.2em;color: black;border-radius: 0.25em;background-color: #f0f8ff;}#sk-container-id-10 input.sk-toggleable__control:checked~div.sk-toggleable__content {max-height: 200px;max-width: 100%;overflow: auto;}#sk-container-id-10 input.sk-toggleable__control:checked~label.sk-toggleable__label-arrow:before {content: \"▾\";}#sk-container-id-10 div.sk-estimator input.sk-toggleable__control:checked~label.sk-toggleable__label {background-color: #d4ebff;}#sk-container-id-10 div.sk-label input.sk-toggleable__control:checked~label.sk-toggleable__label {background-color: #d4ebff;}#sk-container-id-10 input.sk-hidden--visually {border: 0;clip: rect(1px 1px 1px 1px);clip: rect(1px, 1px, 1px, 1px);height: 1px;margin: -1px;overflow: hidden;padding: 0;position: absolute;width: 1px;}#sk-container-id-10 div.sk-estimator {font-family: monospace;background-color: #f0f8ff;border: 1px dotted black;border-radius: 0.25em;box-sizing: border-box;margin-bottom: 0.5em;}#sk-container-id-10 div.sk-estimator:hover {background-color: #d4ebff;}#sk-container-id-10 div.sk-parallel-item::after {content: \"\";width: 100%;border-bottom: 1px solid gray;flex-grow: 1;}#sk-container-id-10 div.sk-label:hover label.sk-toggleable__label {background-color: #d4ebff;}#sk-container-id-10 div.sk-serial::before {content: \"\";position: absolute;border-left: 1px solid gray;box-sizing: border-box;top: 0;bottom: 0;left: 50%;z-index: 0;}#sk-container-id-10 div.sk-serial {display: flex;flex-direction: column;align-items: center;background-color: white;padding-right: 0.2em;padding-left: 0.2em;position: relative;}#sk-container-id-10 div.sk-item {position: relative;z-index: 1;}#sk-container-id-10 div.sk-parallel {display: flex;align-items: stretch;justify-content: center;background-color: white;position: relative;}#sk-container-id-10 div.sk-item::before, #sk-container-id-10 div.sk-parallel-item::before {content: \"\";position: absolute;border-left: 1px solid gray;box-sizing: border-box;top: 0;bottom: 0;left: 50%;z-index: -1;}#sk-container-id-10 div.sk-parallel-item {display: flex;flex-direction: column;z-index: 1;position: relative;background-color: white;}#sk-container-id-10 div.sk-parallel-item:first-child::after {align-self: flex-end;width: 50%;}#sk-container-id-10 div.sk-parallel-item:last-child::after {align-self: flex-start;width: 50%;}#sk-container-id-10 div.sk-parallel-item:only-child::after {width: 0;}#sk-container-id-10 div.sk-dashed-wrapped {border: 1px dashed gray;margin: 0 0.4em 0.5em 0.4em;box-sizing: border-box;padding-bottom: 0.4em;background-color: white;}#sk-container-id-10 div.sk-label label {font-family: monospace;font-weight: bold;display: inline-block;line-height: 1.2em;}#sk-container-id-10 div.sk-label-container {text-align: center;}#sk-container-id-10 div.sk-container {/* jupyter's `normalize.less` sets `[hidden] { display: none; }` but bootstrap.min.css set `[hidden] { display: none !important; }` so we also need the `!important` here to be able to override the default hidden behavior on the sphinx rendered scikit-learn.org. See: https://github.com/scikit-learn/scikit-learn/issues/21755 */display: inline-block !important;position: relative;}#sk-container-id-10 div.sk-text-repr-fallback {display: none;}</style><div id=\"sk-container-id-10\" class=\"sk-top-container\"><div class=\"sk-text-repr-fallback\"><pre>MLPClassifier(hidden_layer_sizes=(12, 12, 12, 12), learning_rate_init=0.01,\n",
       "              random_state=5, verbose=True)</pre><b>In a Jupyter environment, please rerun this cell to show the HTML representation or trust the notebook. <br />On GitHub, the HTML representation is unable to render, please try loading this page with nbviewer.org.</b></div><div class=\"sk-container\" hidden><div class=\"sk-item\"><div class=\"sk-estimator sk-toggleable\"><input class=\"sk-toggleable__control sk-hidden--visually\" id=\"sk-estimator-id-10\" type=\"checkbox\" checked><label for=\"sk-estimator-id-10\" class=\"sk-toggleable__label sk-toggleable__label-arrow\">MLPClassifier</label><div class=\"sk-toggleable__content\"><pre>MLPClassifier(hidden_layer_sizes=(12, 12, 12, 12), learning_rate_init=0.01,\n",
       "              random_state=5, verbose=True)</pre></div></div></div></div></div>"
      ],
      "text/plain": [
       "MLPClassifier(hidden_layer_sizes=(12, 12, 12, 12), learning_rate_init=0.01,\n",
       "              random_state=5, verbose=True)"
      ]
     },
     "execution_count": 155,
     "metadata": {},
     "output_type": "execute_result"
    }
   ],
   "source": [
    "# fit the data\n",
    "model3.fit(train_features,train_ratings)"
   ]
  },
  {
   "cell_type": "code",
   "execution_count": 156,
   "id": "dcc0a6ca",
   "metadata": {},
   "outputs": [],
   "source": [
    "# calculate classification mse\n",
    "def classification_mse(class_truth, pred_class):\n",
    "    error = 0\n",
    "    for i in range(len(class_truth)):\n",
    "        if class_truth[i] != pred_class[i]:\n",
    "            error = error + 1\n",
    "    return error/len(class_truth)"
   ]
  },
  {
   "cell_type": "code",
   "execution_count": 157,
   "id": "30e5e246",
   "metadata": {},
   "outputs": [
    {
     "name": "stdout",
     "output_type": "stream",
     "text": [
      "The accuracy of the MLP model is  0.32369942196531787\n",
      "[3. 4. 3. 3. 3. 3. 3. 5. 2. 4. 3. 3. 3. 4. 8. 3. 3. 3. 4. 3. 2. 5. 3. 3.\n",
      " 4. 3. 3. 3. 4. 3. 3. 3. 4. 4. 3. 4. 3. 3. 5. 4. 4. 3. 4. 3. 3. 3. 4. 4.\n",
      " 4. 4. 3. 3. 3. 4. 3. 4. 3. 3. 3. 3. 5. 3. 3. 3. 3. 3. 3. 4. 4. 3. 3. 3.\n",
      " 1. 3. 3. 3. 3. 4. 3. 3. 2. 3. 4. 3. 3. 3. 4. 3. 4. 3. 4. 3. 4. 3. 3. 3.\n",
      " 3. 3. 3. 2. 2. 3. 3. 3. 3. 3. 3. 5. 4. 3. 3. 2. 3. 4. 3. 3. 3. 3. 3. 3.\n",
      " 2. 5. 3. 2. 4. 3. 5. 3. 3. 3. 4. 3. 4. 4. 3. 3. 3. 2. 3. 3. 4. 3. 3. 4.\n",
      " 3. 3. 3. 3. 5. 3. 3. 3. 3. 3. 4. 2. 3. 3. 3. 4. 4. 3. 3. 4. 3. 3. 3. 3.\n",
      " 3. 3. 3. 5. 3.]\n"
     ]
    }
   ],
   "source": [
    "# make predictions on the test set\n",
    "preds=model3.predict(test_features)\n",
    "\n",
    "# compute the classification mse \n",
    "print(\"The accuracy of the MLP model is \", 1-classification_mse(test_ratings, preds))\n",
    "\n",
    "print(preds)"
   ]
  },
  {
   "cell_type": "markdown",
   "id": "40ebf760",
   "metadata": {},
   "source": [
    "Under the default ReLU activation function, the MLP model does not improve much in terms of accuracy compared to the Sigmoid model above. Both models have an accuracy of around 32%. The results show that the model seems to be predicting a lot of A-ratings for the corporations. "
   ]
  },
  {
   "cell_type": "markdown",
   "id": "3e46c7ae",
   "metadata": {},
   "source": [
    "## Summary\n",
    "\n",
    "Of all three neural networks we created, none of them have a satisfiactory accuracy of over 50% (even lower than the random forest classifier in the last project). This is mainly due to the fact that the models are based on a limited number of data points and there are more complicated features than just the financial performance indicators to predict the credit ratings of companies. Future improvements can be feeding more data and including more features in the data set to train the model."
   ]
  },
  {
   "cell_type": "markdown",
   "id": "62267e52",
   "metadata": {},
   "source": [
    "### References\n",
    "- Multilayer Perceptron Neural Network Tutorial: https://machinelearninggeek.com/multi-layer-perceptron-neural-network-using-python/\n",
    "- Select observations based on value counts:  https://stackoverflow.com/questions/29836836/how-do-i-filter-a-pandas-dataframe-based-on-value-counts"
   ]
  }
 ],
 "metadata": {
  "kernelspec": {
   "display_name": "Python 3 (ipykernel)",
   "language": "python",
   "name": "python3"
  },
  "language_info": {
   "codemirror_mode": {
    "name": "ipython",
    "version": 3
   },
   "file_extension": ".py",
   "mimetype": "text/x-python",
   "name": "python",
   "nbconvert_exporter": "python",
   "pygments_lexer": "ipython3",
   "version": "3.9.7"
  }
 },
 "nbformat": 4,
 "nbformat_minor": 5
}
